{
 "cells": [
  {
   "cell_type": "code",
   "execution_count": 1,
   "id": "6eb245b9",
   "metadata": {},
   "outputs": [],
   "source": [
    "from abc import ABC, abstractmethod\n",
    "from collections import namedtuple\n",
    "\n",
    "Customer = namedtuple('Customer', 'name fidelity')"
   ]
  },
  {
   "cell_type": "code",
   "execution_count": 4,
   "id": "fc5e4900",
   "metadata": {},
   "outputs": [],
   "source": [
    "class LineItem:\n",
    "    def __init__(self, product, quantity, price):\n",
    "        self.product = product\n",
    "        self.quantity = quantity\n",
    "        self.price = price\n",
    "    def total(self):\n",
    "        return self.price * self.quantity"
   ]
  },
  {
   "cell_type": "code",
   "execution_count": 5,
   "id": "89755658",
   "metadata": {},
   "outputs": [],
   "source": [
    "class Order:  # 上下文\n",
    "    def __init__(self, customer, cart, promotion=None):\n",
    "        self.customer = customer\n",
    "        self.cart = list(cart)  # cart: 购物车\n",
    "        self.promotion = promotion\n",
    "    def total(self):  # 总价\n",
    "        if not hasattr(self, '__total'):\n",
    "            self.__total = sum(item.total() for item in self.cart)\n",
    "        return self.__total\n",
    "    def due(self):  # 预计支出\n",
    "        if self.promotion is None:\n",
    "            discount = 0\n",
    "        else:\n",
    "            discount = self.promotion.discount(self)\n",
    "        return self.total() - discount"
   ]
  },
  {
   "cell_type": "code",
   "execution_count": 6,
   "id": "53d86c27",
   "metadata": {},
   "outputs": [],
   "source": [
    "class Promotion(ABC):  # 策略：抽象基类\n",
    "    @abstractmethod\n",
    "    def discount(self, order):\n",
    "        \"\"\"返回折扣金额(正值)\"\"\""
   ]
  },
  {
   "cell_type": "code",
   "execution_count": null,
   "id": "7ff1f05d",
   "metadata": {},
   "outputs": [],
   "source": [
    "class Fidelity"
   ]
  }
 ],
 "metadata": {
  "kernelspec": {
   "display_name": "ml",
   "language": "python",
   "name": "python3"
  },
  "language_info": {
   "codemirror_mode": {
    "name": "ipython",
    "version": 3
   },
   "file_extension": ".py",
   "mimetype": "text/x-python",
   "name": "python",
   "nbconvert_exporter": "python",
   "pygments_lexer": "ipython3",
   "version": "3.10.8 | packaged by conda-forge | (main, Nov 24 2022, 14:07:00) [MSC v.1916 64 bit (AMD64)]"
  },
  "vscode": {
   "interpreter": {
    "hash": "326181a7a0848edcd38b5e5d8d41ef60109f6026e13bd41811ff8619a07d710f"
   }
  }
 },
 "nbformat": 4,
 "nbformat_minor": 5
}
