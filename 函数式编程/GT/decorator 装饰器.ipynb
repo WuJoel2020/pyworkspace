{
 "cells": [
  {
   "cell_type": "code",
   "execution_count": 3,
   "id": "c9a95d57",
   "metadata": {},
   "outputs": [],
   "source": [
    "# 定义函数==新建一个变量，变量里保存一个函数对象 function object\n",
    "# callable == ()\n",
    "def double(x):\n",
    "    return x * 2"
   ]
  },
  {
   "cell_type": "code",
   "execution_count": 7,
   "id": "7291e309",
   "metadata": {},
   "outputs": [
    {
     "data": {
      "text/plain": [
       "<function __main__.double(x)>"
      ]
     },
     "execution_count": 7,
     "metadata": {},
     "output_type": "execute_result"
    }
   ],
   "source": [
    "double"
   ]
  },
  {
   "cell_type": "code",
   "execution_count": 5,
   "id": "6a98e761",
   "metadata": {},
   "outputs": [],
   "source": [
    "import dis"
   ]
  },
  {
   "cell_type": "code",
   "execution_count": 9,
   "id": "e02fe688",
   "metadata": {},
   "outputs": [
    {
     "name": "stdout",
     "output_type": "stream",
     "text": [
      "  4           0 LOAD_FAST                0 (x)\n",
      "              2 LOAD_CONST               1 (2)\n",
      "              4 BINARY_MULTIPLY\n",
      "              6 RETURN_VALUE\n"
     ]
    }
   ],
   "source": [
    "dis.dis(double)"
   ]
  },
  {
   "cell_type": "code",
   "execution_count": 6,
   "id": "3a631c37",
   "metadata": {},
   "outputs": [
    {
     "name": "stdout",
     "output_type": "stream",
     "text": [
      "  1           0 LOAD_CONST               0 (1)\n",
      "              2 CALL_FUNCTION            0\n",
      "              4 RETURN_VALUE\n"
     ]
    },
    {
     "name": "stderr",
     "output_type": "stream",
     "text": [
      "<dis>:1: SyntaxWarning: 'int' object is not callable; perhaps you missed a comma?\n"
     ]
    }
   ],
   "source": [
    "dis.dis(\"1()\")"
   ]
  },
  {
   "cell_type": "code",
   "execution_count": 12,
   "id": "3d899272",
   "metadata": {},
   "outputs": [
    {
     "name": "stdout",
     "output_type": "stream",
     "text": [
      "6\n",
      "9\n"
     ]
    }
   ],
   "source": [
    "# 函数也是对象，所以函数也能作为参数被传入函数中使用\n",
    "def double(x):\n",
    "    return x * 2\n",
    "def triple(x):\n",
    "    return x * 3\n",
    "def calc_number(func, x):\n",
    "    print(func(x))\n",
    "calc_number(double, 3)\n",
    "calc_number(triple, 3)"
   ]
  },
  {
   "cell_type": "code",
   "execution_count": 14,
   "id": "bb8ee9bb",
   "metadata": {},
   "outputs": [
    {
     "name": "stdout",
     "output_type": "stream",
     "text": [
      "6\n",
      "9\n"
     ]
    }
   ],
   "source": [
    "# 函数也能作为返回值\n",
    "def get_mutiple_func(n):\n",
    "    def multiple(x):\n",
    "        return n * x\n",
    "    return multiple\n",
    "double = get_mutiple_func(2)\n",
    "triple = get_mutiple_func(3)\n",
    "\n",
    "print(double(3))\n",
    "print(triple(3))"
   ]
  },
  {
   "cell_type": "code",
   "execution_count": 20,
   "id": "a7243b72",
   "metadata": {},
   "outputs": [],
   "source": [
    "# 极简的 decorator，decorator 本身也是 callable\n",
    "def dec(f):\n",
    "    pass\n",
    "@dec\n",
    "def double(x):\n",
    "    return x * 2\n",
    "\n",
    "# 完全等价 double = dec(double)  # 输入和输出都是函数的函数（不完全: dec: return 1)"
   ]
  },
  {
   "cell_type": "code",
   "execution_count": 24,
   "id": "c33e2a60",
   "metadata": {},
   "outputs": [],
   "source": [
    "import time\n",
    "def timeit(f):\n",
    "    def wrapper(x):\n",
    "        start = time.time()\n",
    "        ret = f(x)\n",
    "        print(time.time() - start)\n",
    "        return ret\n",
    "    return wrapper\n",
    "\n",
    "@timeit\n",
    "def my_func(x):\n",
    "    time.sleep(x)"
   ]
  },
  {
   "cell_type": "code",
   "execution_count": 25,
   "id": "78c94e61",
   "metadata": {},
   "outputs": [
    {
     "name": "stdout",
     "output_type": "stream",
     "text": [
      "1.012984037399292\n"
     ]
    }
   ],
   "source": [
    "my_func(1)"
   ]
  },
  {
   "cell_type": "code",
   "execution_count": 26,
   "id": "747b4299",
   "metadata": {},
   "outputs": [
    {
     "name": "stdout",
     "output_type": "stream",
     "text": [
      "0.0\n",
      "4\n"
     ]
    }
   ],
   "source": [
    "@timeit\n",
    "def other_func(x):\n",
    "    return x * 2\n",
    "print(other_func(2))"
   ]
  },
  {
   "cell_type": "code",
   "execution_count": 27,
   "id": "e39e4d63",
   "metadata": {},
   "outputs": [],
   "source": [
    "# 初始形态\n",
    "import time\n",
    "def timeit(f):\n",
    "    def wrapper(*args, **kwargs):  # 支持函数带多个参数\n",
    "        start = time.time()\n",
    "        ret = f(*args, **kwargs)\n",
    "        print(time.time() - start)\n",
    "        return ret\n",
    "    return wrapper\n",
    "\n",
    "@timeit\n",
    "def my_func(x):\n",
    "    time.sleep(x)\n",
    "@timeit\n",
    "def add(x, y):\n",
    "    return x + y"
   ]
  },
  {
   "cell_type": "code",
   "execution_count": 30,
   "id": "193863d6",
   "metadata": {},
   "outputs": [],
   "source": [
    "# 带参数的 decorator\n",
    "import time\n",
    "def timeit(iteration):\n",
    "    def inner(f):\n",
    "        def wrapper(*args, **kwargs):\n",
    "            start = time.time()\n",
    "            for _ in range(iteration):  # 运行iteration次函数\n",
    "                ret = f(*args, **kwargs)\n",
    "            print(time.time() - start)\n",
    "            return ret\n",
    "        return wrapper\n",
    "    return inner\n",
    "\n",
    "@timeit(1000000)\n",
    "def double(x):\n",
    "    return x * 2\n",
    "# double = timeit(1000)(double)  # timeit(10) 返回一个函数"
   ]
  },
  {
   "cell_type": "code",
   "execution_count": 31,
   "id": "4dd466da",
   "metadata": {},
   "outputs": [
    {
     "name": "stdout",
     "output_type": "stream",
     "text": [
      "0.12599587440490723\n"
     ]
    },
    {
     "data": {
      "text/plain": [
       "4"
      ]
     },
     "execution_count": 31,
     "metadata": {},
     "output_type": "execute_result"
    }
   ],
   "source": [
    "double(2)"
   ]
  },
  {
   "cell_type": "code",
   "execution_count": null,
   "id": "6d9a0bbc",
   "metadata": {},
   "outputs": [],
   "source": []
  }
 ],
 "metadata": {
  "kernelspec": {
   "display_name": "pytorch1.11.0",
   "language": "python",
   "name": "python3"
  },
  "language_info": {
   "codemirror_mode": {
    "name": "ipython",
    "version": 3
   },
   "file_extension": ".py",
   "mimetype": "text/x-python",
   "name": "python",
   "nbconvert_exporter": "python",
   "pygments_lexer": "ipython3",
   "version": "3.10.4 | packaged by conda-forge | (main, Mar 30 2022, 08:38:02) [MSC v.1916 64 bit (AMD64)]"
  },
  "vscode": {
   "interpreter": {
    "hash": "6df20d2309d769632bdb81a4b4ba37183d1e36c8e5c9289430a025ec9c01d4e8"
   }
  }
 },
 "nbformat": 4,
 "nbformat_minor": 5
}
