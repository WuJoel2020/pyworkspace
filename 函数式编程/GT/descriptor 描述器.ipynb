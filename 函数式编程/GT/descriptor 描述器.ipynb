{
 "cells": [
  {
   "cell_type": "code",
   "execution_count": 1,
   "id": "fe568d34",
   "metadata": {},
   "outputs": [
    {
     "name": "stdout",
     "output_type": "stream",
     "text": [
      "Peter\n"
     ]
    }
   ],
   "source": [
    "class Name:\n",
    "    def __get__(self, obj, objtype):\n",
    "        return \"Peter\"\n",
    "class A:\n",
    "    name = Name()  # descriptor object\n",
    "\n",
    "o = A()\n",
    "print(o.name)"
   ]
  },
  {
   "cell_type": "code",
   "execution_count": 2,
   "id": "1cecb657",
   "metadata": {},
   "outputs": [
    {
     "name": "stdout",
     "output_type": "stream",
     "text": [
      "Peter\n"
     ]
    }
   ],
   "source": [
    "print(A.name)"
   ]
  },
  {
   "cell_type": "code",
   "execution_count": 4,
   "id": "eebe7e19",
   "metadata": {},
   "outputs": [
    {
     "name": "stdout",
     "output_type": "stream",
     "text": [
      "<__main__.Name object at 0x0000014FBBC2C5E0>\n"
     ]
    }
   ],
   "source": [
    "# 问题1\n",
    "class Name:\n",
    "    def __get__(self, obj, objtype):\n",
    "        return \"Peter\"\n",
    "class A:\n",
    "    def __init__(self):\n",
    "        self.name = Name()  # 要想让 descriptor 工作，必须是 type 的一个 attribute 或者 member\n",
    "        # 这里写到__init__里，实际上是对 type 产生的 object 做手脚\n",
    "\n",
    "o = A()\n",
    "print(o.name)"
   ]
  },
  {
   "cell_type": "code",
   "execution_count": 13,
   "id": "95b595f3",
   "metadata": {},
   "outputs": [
    {
     "name": "stdout",
     "output_type": "stream",
     "text": [
      "{'name': 'Bob'}\n",
      "Bob\n"
     ]
    }
   ],
   "source": [
    "# 问题2\n",
    "class Name:\n",
    "    def __get__(self, obj, objtype):\n",
    "        return \"Peter\"\n",
    "class A:\n",
    "    name = Name()\n",
    "\n",
    "o = A()\n",
    "o.name = \"Bob\"\n",
    "print(o.__dict__)  # 由于没有__set__，去 __dict__ 中查找\n",
    "print(o.name)"
   ]
  },
  {
   "cell_type": "code",
   "execution_count": 10,
   "id": "0ecc7a61",
   "metadata": {},
   "outputs": [
    {
     "name": "stdout",
     "output_type": "stream",
     "text": [
      "Peter\n"
     ]
    }
   ],
   "source": [
    "# 问题3\n",
    "class Name:\n",
    "    def __get__(self, obj, objtype):\n",
    "        return \"Peter\"\n",
    "class A:\n",
    "    name = Name()\n",
    "\n",
    "o = A()\n",
    "o.name = \"Bob\"\n",
    "Name.__set__ = lambda x, y, z:None  # 有__set__后，优先使用 descriptor\n",
    "print(o.name)"
   ]
  },
  {
   "cell_type": "code",
   "execution_count": 11,
   "id": "edf84fff",
   "metadata": {},
   "outputs": [],
   "source": [
    "import dis"
   ]
  },
  {
   "cell_type": "code",
   "execution_count": 12,
   "id": "4080adb5",
   "metadata": {},
   "outputs": [
    {
     "name": "stdout",
     "output_type": "stream",
     "text": [
      "  1           0 LOAD_NAME                0 (a)\n",
      "              2 LOAD_ATTR                1 (b)\n",
      "              4 RETURN_VALUE\n"
     ]
    }
   ],
   "source": [
    "dis.dis(\"a.b\")  # LOAD_ATTR 和 STORE_ATTR"
   ]
  },
  {
   "cell_type": "code",
   "execution_count": null,
   "id": "f6221b3f",
   "metadata": {},
   "outputs": [],
   "source": [
    "# 如果 __get__ 和 __set__ 都有，优先使用 descriptor，否则，在 __dict__ 里面找，如果__dict__也没有\n",
    "# 就尝试用 descriptor 的 __get__，都没有，就返回 descriptor 本身"
   ]
  },
  {
   "cell_type": "code",
   "execution_count": null,
   "id": "244f45db",
   "metadata": {},
   "outputs": [],
   "source": [
    "# descriptor很重要，每次使用 x.x 的时候，都会触发这个机制。"
   ]
  }
 ],
 "metadata": {
  "kernelspec": {
   "display_name": "ml",
   "language": "python",
   "name": "python3"
  },
  "language_info": {
   "codemirror_mode": {
    "name": "ipython",
    "version": 3
   },
   "file_extension": ".py",
   "mimetype": "text/x-python",
   "name": "python",
   "nbconvert_exporter": "python",
   "pygments_lexer": "ipython3",
   "version": "3.10.8 | packaged by conda-forge | (main, Nov 24 2022, 14:07:00) [MSC v.1916 64 bit (AMD64)]"
  },
  "vscode": {
   "interpreter": {
    "hash": "326181a7a0848edcd38b5e5d8d41ef60109f6026e13bd41811ff8619a07d710f"
   }
  }
 },
 "nbformat": 4,
 "nbformat_minor": 5
}
