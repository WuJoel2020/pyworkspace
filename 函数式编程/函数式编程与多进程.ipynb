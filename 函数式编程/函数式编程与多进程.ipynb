{
 "cells": [
  {
   "cell_type": "markdown",
   "id": "ce61f5ec",
   "metadata": {},
   "source": [
    "### 热身"
   ]
  },
  {
   "cell_type": "code",
   "execution_count": 1,
   "id": "efe6cdae",
   "metadata": {},
   "outputs": [],
   "source": [
    "data = [1, 2, 3, 4, 5, 6]"
   ]
  },
  {
   "cell_type": "code",
   "execution_count": 2,
   "id": "cdeb6cc5",
   "metadata": {},
   "outputs": [
    {
     "name": "stdout",
     "output_type": "stream",
     "text": [
      "[2, 4, 6, 8, 10, 12]\n"
     ]
    }
   ],
   "source": [
    "res1 = []\n",
    "for n in data:\n",
    "    res1.append(n * 2)\n",
    "print(res1)\n"
   ]
  },
  {
   "cell_type": "code",
   "execution_count": 3,
   "id": "241005d4",
   "metadata": {},
   "outputs": [
    {
     "name": "stdout",
     "output_type": "stream",
     "text": [
      "[2, 4, 6, 8, 10, 12]\n"
     ]
    }
   ],
   "source": [
    "res2 = [n*2 for n in data]\n",
    "print(res2)"
   ]
  },
  {
   "cell_type": "code",
   "execution_count": 4,
   "id": "5f2b9376",
   "metadata": {},
   "outputs": [
    {
     "name": "stdout",
     "output_type": "stream",
     "text": [
      "[2, 4, 6, 8, 10, 12]\n"
     ]
    }
   ],
   "source": [
    "def doubled(n):\n",
    "    return n * 2\n",
    "\n",
    "res3 = map(doubled, data)\n",
    "res3 = list(res3)\n",
    "print(res3)"
   ]
  },
  {
   "cell_type": "markdown",
   "id": "9c7e0981",
   "metadata": {},
   "source": [
    "### 分式化简"
   ]
  },
  {
   "cell_type": "code",
   "execution_count": 5,
   "id": "8988dc7d",
   "metadata": {},
   "outputs": [],
   "source": [
    "import random"
   ]
  },
  {
   "cell_type": "code",
   "execution_count": 6,
   "id": "1ab3de4f",
   "metadata": {},
   "outputs": [],
   "source": [
    "data = [(random.randint(1,1000), random.randint(1,1000)) for _ in range(100000)]"
   ]
  },
  {
   "cell_type": "code",
   "execution_count": 7,
   "id": "e77d740e",
   "metadata": {},
   "outputs": [],
   "source": [
    "def gcd(a, b):\n",
    "    r = a % b\n",
    "    while r != 0:\n",
    "        a = b\n",
    "        b = r\n",
    "        r = a % b\n",
    "    return b\n",
    "\n",
    "def simplify(pair):\n",
    "    n1, n2 = pair[0], pair[1]\n",
    "    m = gcd(n1, n2)\n",
    "    return (int(n1/m), int(n2/m))"
   ]
  },
  {
   "cell_type": "code",
   "execution_count": 8,
   "id": "d00daa3a",
   "metadata": {},
   "outputs": [
    {
     "name": "stdout",
     "output_type": "stream",
     "text": [
      "CPU times: user 58.5 ms, sys: 24.5 ms, total: 83 ms\n",
      "Wall time: 83.8 ms\n"
     ]
    }
   ],
   "source": [
    "%%time\n",
    "\n",
    "res1 = []\n",
    "for pair in data:\n",
    "    n1, n2 = pair[0], pair[1]\n",
    "    m = gcd(n1, n2)\n",
    "    res1.append((int(n1/m), int(n2/m)))\n",
    "    \n",
    "#print(res1)"
   ]
  },
  {
   "cell_type": "code",
   "execution_count": 9,
   "id": "b61954e7",
   "metadata": {},
   "outputs": [
    {
     "name": "stdout",
     "output_type": "stream",
     "text": [
      "CPU times: user 76.4 ms, sys: 0 ns, total: 76.4 ms\n",
      "Wall time: 78.4 ms\n"
     ]
    }
   ],
   "source": [
    "%%time\n",
    "res2 = [simplify(pair) for pair in data]\n",
    "#print(res2)"
   ]
  },
  {
   "cell_type": "code",
   "execution_count": 10,
   "id": "613845b5",
   "metadata": {},
   "outputs": [
    {
     "name": "stdout",
     "output_type": "stream",
     "text": [
      "CPU times: user 78 ms, sys: 0 ns, total: 78 ms\n",
      "Wall time: 80 ms\n"
     ]
    }
   ],
   "source": [
    "%%time\n",
    "res3 = map(simplify, data)\n",
    "res3 = list(res3)"
   ]
  },
  {
   "cell_type": "markdown",
   "id": "7667bc7a",
   "metadata": {},
   "source": [
    "### 多进程"
   ]
  },
  {
   "cell_type": "code",
   "execution_count": 11,
   "id": "493dcbe8",
   "metadata": {},
   "outputs": [],
   "source": [
    "from multiprocessing import Pool  # 理论上这个就可以用，但是在Windows上会卡住，细节不在这里研究\n",
    "#from multiprocessing.pool import ThreadPool as Pool  # 使用线程\n",
    "#from multiprocessing.dummy import Pool  # 用线程模拟进程"
   ]
  },
  {
   "cell_type": "code",
   "execution_count": 12,
   "id": "dac7b891",
   "metadata": {},
   "outputs": [],
   "source": [
    "p = Pool(4)  # 创建一个进程池，开4个线程"
   ]
  },
  {
   "cell_type": "code",
   "execution_count": 13,
   "id": "ef5094ff",
   "metadata": {},
   "outputs": [
    {
     "name": "stdout",
     "output_type": "stream",
     "text": [
      "CPU times: user 1.22 ms, sys: 51.7 ms, total: 52.9 ms\n",
      "Wall time: 76.4 ms\n"
     ]
    }
   ],
   "source": [
    "%%time\n",
    "res4 = p.map(simplify, data)"
   ]
  },
  {
   "cell_type": "code",
   "execution_count": 14,
   "id": "80ad5780",
   "metadata": {},
   "outputs": [],
   "source": [
    "# 这个时间测试不太准，但理论是这样的"
   ]
  },
  {
   "cell_type": "code",
   "execution_count": 15,
   "id": "777e12fc",
   "metadata": {},
   "outputs": [
    {
     "name": "stdout",
     "output_type": "stream",
     "text": [
      "[(153, 26), (256, 367), (52, 95), (977, 268), (155, 63)] [(153, 26), (256, 367), (52, 95), (977, 268), (155, 63)]\n"
     ]
    }
   ],
   "source": [
    "print(res3[:5], res4[:5])"
   ]
  },
  {
   "cell_type": "code",
   "execution_count": null,
   "id": "bc68c5fa",
   "metadata": {},
   "outputs": [],
   "source": []
  }
 ],
 "metadata": {
  "kernelspec": {
   "display_name": "Python 3 (ipykernel)",
   "language": "python",
   "name": "python3"
  },
  "language_info": {
   "codemirror_mode": {
    "name": "ipython",
    "version": 3
   },
   "file_extension": ".py",
   "mimetype": "text/x-python",
   "name": "python",
   "nbconvert_exporter": "python",
   "pygments_lexer": "ipython3",
   "version": "3.7.13"
  },
  "toc": {
   "base_numbering": 1,
   "nav_menu": {},
   "number_sections": true,
   "sideBar": true,
   "skip_h1_title": false,
   "title_cell": "Table of Contents",
   "title_sidebar": "Contents",
   "toc_cell": false,
   "toc_position": {},
   "toc_section_display": true,
   "toc_window_display": false
  },
  "vscode": {
   "interpreter": {
    "hash": "40fb06565f6ee0408ba00666c4b6bef9d55903fa51671882d236927d64d538bd"
   }
  }
 },
 "nbformat": 4,
 "nbformat_minor": 5
}
