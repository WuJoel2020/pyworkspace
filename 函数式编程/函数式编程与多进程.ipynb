{
 "cells": [
  {
   "cell_type": "code",
   "execution_count": 1,
   "id": "8988dc7d",
   "metadata": {},
   "outputs": [],
   "source": [
    "import random"
   ]
  },
  {
   "cell_type": "code",
   "execution_count": 2,
   "id": "1ab3de4f",
   "metadata": {},
   "outputs": [],
   "source": [
    "data = [(random.randint(1,1000), random.randint(1,1000)) for _ in range(1000000)]"
   ]
  },
  {
   "cell_type": "code",
   "execution_count": 3,
   "id": "e77d740e",
   "metadata": {},
   "outputs": [],
   "source": [
    "def gcd(a, b):\n",
    "    r = a % b\n",
    "    while r != 0:\n",
    "        a = b\n",
    "        b = r\n",
    "        r = a % b\n",
    "    return b\n",
    "\n",
    "def simplify(pair):\n",
    "    n1, n2 = pair[0], pair[1]\n",
    "    m = gcd(n1, n2)\n",
    "    return (int(n1/m), int(n2/m))"
   ]
  },
  {
   "cell_type": "code",
   "execution_count": 4,
   "id": "d00daa3a",
   "metadata": {},
   "outputs": [
    {
     "name": "stdout",
     "output_type": "stream",
     "text": [
      "CPU times: total: 1.12 s\n",
      "Wall time: 1.14 s\n"
     ]
    }
   ],
   "source": [
    "%%time\n",
    "\n",
    "res1 = []\n",
    "for pair in data:\n",
    "    n1, n2 = pair[0], pair[1]\n",
    "    m = gcd(n1, n2)\n",
    "    res1.append((int(n1/m), int(n2/m)))\n",
    "    \n",
    "#print(res1)"
   ]
  },
  {
   "cell_type": "code",
   "execution_count": 5,
   "id": "b61954e7",
   "metadata": {},
   "outputs": [
    {
     "name": "stdout",
     "output_type": "stream",
     "text": [
      "CPU times: total: 891 ms\n",
      "Wall time: 884 ms\n"
     ]
    }
   ],
   "source": [
    "%%time\n",
    "res2 = [simplify(pair) for pair in data]\n",
    "#print(res2)"
   ]
  },
  {
   "cell_type": "code",
   "execution_count": 6,
   "id": "613845b5",
   "metadata": {},
   "outputs": [
    {
     "name": "stdout",
     "output_type": "stream",
     "text": [
      "CPU times: total: 844 ms\n",
      "Wall time: 852 ms\n"
     ]
    }
   ],
   "source": [
    "%%time\n",
    "res3 = map(simplify, data)\n",
    "res3 = list(res3)"
   ]
  },
  {
   "cell_type": "code",
   "execution_count": 10,
   "id": "493dcbe8",
   "metadata": {},
   "outputs": [],
   "source": [
    "#from multiprocessing import Pool\n",
    "#from multiprocessing.pool import ThreadPool as Pool\n",
    "from multiprocessing.dummy import Pool"
   ]
  },
  {
   "cell_type": "code",
   "execution_count": 11,
   "id": "dac7b891",
   "metadata": {},
   "outputs": [],
   "source": [
    "p = Pool(4)"
   ]
  },
  {
   "cell_type": "code",
   "execution_count": 12,
   "id": "ef5094ff",
   "metadata": {},
   "outputs": [
    {
     "name": "stdout",
     "output_type": "stream",
     "text": [
      "CPU times: total: 922 ms\n",
      "Wall time: 931 ms\n"
     ]
    }
   ],
   "source": [
    "%%time\n",
    "res4 = p.map(simplify, data)"
   ]
  },
  {
   "cell_type": "markdown",
   "id": "ab8209b7",
   "metadata": {},
   "source": [
    "> https://hero78.blog.csdn.net/article/details/94595715\n",
    "\n",
    "Windows下面的multiprocessing跟Linux下面略有不同，Linux下面基于fork，fork之后所有的本地变量都复制一份，因此可以使用任意的全局变量；\n",
    "在Windows下面，多进程是通过启动新进程完成的，所有的全局变量都是重新初始化的，在运行过程中动态生成、修改过的全局变量是不能使用的。multiprocessing内部使用pickling传递map的参数到不同的进程，当传递一个函数或类时，pickling将函数或者类用所在模块+函数/类名的方式表示，如果对端的Python进程无法在对应的模块中找到相应的函数或者类，就会出错。当你在Interactive Console当中创建函数的时候，这个函数是动态添加到\\_\\_main\\_\\_模块中的，在重新启动的新进程当中不存在，所以会出错。当不在Console中，而是在独立Python文件中运行时，你会遇到另一个问题：由于你下面调用multiprocessing的代码没有保护，在新进程加载这个模块的时候会重新执行这段代码，创建出新的multiprocessing池，无限调用下去。解决这个问题的方法是永远把实际执行功能的代码加入到带保护的区域中：if \\_\\_name\\_\\_ == '\\_\\_mian\\_\\_':"
   ]
  },
  {
   "cell_type": "code",
   "execution_count": 2,
   "id": "03e2f8e2",
   "metadata": {},
   "outputs": [
    {
     "name": "stdout",
     "output_type": "stream",
     "text": [
      "Writing temp.py\n"
     ]
    }
   ],
   "source": [
    "%%writefile temp.py\n",
    "#上方代码用于将以下代码保存为py文件\n",
    "from multiprocessing import Process\n",
    "import os\n",
    "def func():\n",
    "#     os.getpid()获取当前进程id     os.getppid()获取父进程id\n",
    "    print('func',os.getpid(), os.getppid())\n",
    "if __name__ == '__main__':\n",
    "    print('__main__',os.getpid(), os.getppid())\n",
    "    p = Process(target=func,)\n",
    "    p.start()"
   ]
  },
  {
   "cell_type": "code",
   "execution_count": 4,
   "id": "dde2311f",
   "metadata": {},
   "outputs": [],
   "source": [
    "! .\\temp.py"
   ]
  },
  {
   "cell_type": "code",
   "execution_count": null,
   "id": "d52cbc3f",
   "metadata": {},
   "outputs": [],
   "source": []
  }
 ],
 "metadata": {
  "kernelspec": {
   "display_name": "Python 3 (ipykernel)",
   "language": "python",
   "name": "python3"
  },
  "language_info": {
   "codemirror_mode": {
    "name": "ipython",
    "version": 3
   },
   "file_extension": ".py",
   "mimetype": "text/x-python",
   "name": "python",
   "nbconvert_exporter": "python",
   "pygments_lexer": "ipython3",
   "version": "3.10.8"
  }
 },
 "nbformat": 4,
 "nbformat_minor": 5
}
