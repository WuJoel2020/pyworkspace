{
 "cells": [
  {
   "cell_type": "code",
   "execution_count": 1,
   "id": "c3750763",
   "metadata": {},
   "outputs": [],
   "source": [
    "# methods to verify the type of token and methods to retrieve the source of token"
   ]
  },
  {
   "cell_type": "code",
   "execution_count": 2,
   "id": "8d79b70b",
   "metadata": {},
   "outputs": [],
   "source": [
    "import inspect"
   ]
  },
  {
   "cell_type": "markdown",
   "id": "ffb43699",
   "metadata": {},
   "source": [
    "### Methods to verify the type of token"
   ]
  },
  {
   "cell_type": "code",
   "execution_count": 3,
   "id": "d366d020",
   "metadata": {},
   "outputs": [],
   "source": [
    "# isclass(): The isclass() method returns True if that object is a class or false otherwise.\n",
    "# When it is combined with the getmembers() functions it shows the class and its type. \n",
    "# It is used to inspect live classes."
   ]
  },
  {
   "cell_type": "code",
   "execution_count": 4,
   "id": "a497e7a8",
   "metadata": {},
   "outputs": [
    {
     "name": "stdout",
     "output_type": "stream",
     "text": [
      "True\n"
     ]
    }
   ],
   "source": [
    "class A(object):\n",
    "    pass\n",
    "print(inspect.isclass(A))"
   ]
  },
  {
   "cell_type": "code",
   "execution_count": 5,
   "id": "10b308a7",
   "metadata": {},
   "outputs": [
    {
     "name": "stdout",
     "output_type": "stream",
     "text": [
      "True\n"
     ]
    }
   ],
   "source": [
    "import numpy\n",
    "print(inspect.ismodule(numpy))"
   ]
  },
  {
   "cell_type": "code",
   "execution_count": 6,
   "id": "c4f4972a",
   "metadata": {},
   "outputs": [
    {
     "name": "stdout",
     "output_type": "stream",
     "text": [
      "True\n"
     ]
    }
   ],
   "source": [
    "def fun(a):\n",
    "    return 2*a\n",
    "print(inspect.isfunction(fun))"
   ]
  },
  {
   "cell_type": "code",
   "execution_count": 7,
   "id": "0eca26a2",
   "metadata": {},
   "outputs": [
    {
     "name": "stdout",
     "output_type": "stream",
     "text": [
      "False\n",
      "False\n"
     ]
    }
   ],
   "source": [
    "import collections\n",
    "print(inspect.ismethod(collections.Counter))\n",
    "print(inspect.ismethod(fun))"
   ]
  },
  {
   "cell_type": "markdown",
   "id": "f11facd5",
   "metadata": {},
   "source": [
    "### Methods to retrieve the source of token"
   ]
  },
  {
   "cell_type": "code",
   "execution_count": 10,
   "id": "19821e61",
   "metadata": {},
   "outputs": [
    {
     "name": "stdout",
     "output_type": "stream",
     "text": [
      "(<class '__main__.C'>, <class '__main__.B'>, <class '__main__.A'>, <class 'object'>)\n",
      "[(<class 'object'>, ()), [(<class '__main__.A'>, (<class 'object'>,)), [(<class '__main__.B'>, (<class '__main__.A'>,)), [(<class '__main__.C'>, (<class '__main__.B'>,))]]]]\n"
     ]
    }
   ],
   "source": [
    "class A(object):\n",
    "    pass\n",
    "class B(A):\n",
    "    pass\n",
    "class C(B):\n",
    "    pass\n",
    "print(inspect.getmro(C))\n",
    "print(inspect.getclasstree(inspect.getmro(C)))"
   ]
  },
  {
   "cell_type": "code",
   "execution_count": 11,
   "id": "1bae3f5a",
   "metadata": {},
   "outputs": [
    {
     "name": "stdout",
     "output_type": "stream",
     "text": [
      "[('__doc__', 'This module provides access to the mathematical functions\\ndefined by the C standard.'), ('__loader__', <class '_frozen_importlib.BuiltinImporter'>), ('__name__', 'math'), ('__package__', ''), ('__spec__', ModuleSpec(name='math', loader=<class '_frozen_importlib.BuiltinImporter'>, origin='built-in')), ('acos', <built-in function acos>), ('acosh', <built-in function acosh>), ('asin', <built-in function asin>), ('asinh', <built-in function asinh>), ('atan', <built-in function atan>), ('atan2', <built-in function atan2>), ('atanh', <built-in function atanh>), ('ceil', <built-in function ceil>), ('comb', <built-in function comb>), ('copysign', <built-in function copysign>), ('cos', <built-in function cos>), ('cosh', <built-in function cosh>), ('degrees', <built-in function degrees>), ('dist', <built-in function dist>), ('e', 2.718281828459045), ('erf', <built-in function erf>), ('erfc', <built-in function erfc>), ('exp', <built-in function exp>), ('expm1', <built-in function expm1>), ('fabs', <built-in function fabs>), ('factorial', <built-in function factorial>), ('floor', <built-in function floor>), ('fmod', <built-in function fmod>), ('frexp', <built-in function frexp>), ('fsum', <built-in function fsum>), ('gamma', <built-in function gamma>), ('gcd', <built-in function gcd>), ('hypot', <built-in function hypot>), ('inf', inf), ('isclose', <built-in function isclose>), ('isfinite', <built-in function isfinite>), ('isinf', <built-in function isinf>), ('isnan', <built-in function isnan>), ('isqrt', <built-in function isqrt>), ('lcm', <built-in function lcm>), ('ldexp', <built-in function ldexp>), ('lgamma', <built-in function lgamma>), ('log', <built-in function log>), ('log10', <built-in function log10>), ('log1p', <built-in function log1p>), ('log2', <built-in function log2>), ('modf', <built-in function modf>), ('nan', nan), ('nextafter', <built-in function nextafter>), ('perm', <built-in function perm>), ('pi', 3.141592653589793), ('pow', <built-in function pow>), ('prod', <built-in function prod>), ('radians', <built-in function radians>), ('remainder', <built-in function remainder>), ('sin', <built-in function sin>), ('sinh', <built-in function sinh>), ('sqrt', <built-in function sqrt>), ('tan', <built-in function tan>), ('tanh', <built-in function tanh>), ('tau', 6.283185307179586), ('trunc', <built-in function trunc>), ('ulp', <built-in function ulp>)]\n"
     ]
    }
   ],
   "source": [
    "# getmembers(): This method returns the member functions present in the module \n",
    "# passed as an argument of this method.\n",
    "import math\n",
    "print(inspect.getmembers(math))"
   ]
  },
  {
   "cell_type": "code",
   "execution_count": 12,
   "id": "db7cca7c",
   "metadata": {},
   "outputs": [
    {
     "name": "stdout",
     "output_type": "stream",
     "text": [
      "(iterable=None, /, **kwds)\n"
     ]
    }
   ],
   "source": [
    "print(inspect.signature(collections.Counter))"
   ]
  },
  {
   "cell_type": "code",
   "execution_count": 15,
   "id": "fe16b439",
   "metadata": {},
   "outputs": [
    {
     "name": "stdout",
     "output_type": "stream",
     "text": [
      "FrameInfo(frame=<frame at 0x000001913F1AE9F0, file 'C:\\\\Users\\\\joel\\\\AppData\\\\Local\\\\Temp\\\\ipykernel_17648\\\\1562645720.py', line 12, code <module>>, filename='C:\\\\Users\\\\joel\\\\AppData\\\\Local\\\\Temp\\\\ipykernel_17648\\\\1562645720.py', lineno=11, function='<module>', code_context=['for i in inspect.stack():\\n'], index=0)\n",
      "FrameInfo(frame=<frame at 0x000001913EB29520, file 'C:\\\\Users\\\\joel\\\\miniconda3\\\\envs\\\\ml\\\\lib\\\\site-packages\\\\IPython\\\\core\\\\interactiveshell.py', line 3433, code run_code>, filename='C:\\\\Users\\\\joel\\\\miniconda3\\\\envs\\\\ml\\\\lib\\\\site-packages\\\\IPython\\\\core\\\\interactiveshell.py', lineno=3433, function='run_code', code_context=['                    exec(code_obj, self.user_global_ns, self.user_ns)\\n'], index=0)\n",
      "FrameInfo(frame=<frame at 0x000001913390EDD0, file 'C:\\\\Users\\\\joel\\\\miniconda3\\\\envs\\\\ml\\\\lib\\\\site-packages\\\\IPython\\\\core\\\\interactiveshell.py', line 3373, code run_ast_nodes>, filename='C:\\\\Users\\\\joel\\\\miniconda3\\\\envs\\\\ml\\\\lib\\\\site-packages\\\\IPython\\\\core\\\\interactiveshell.py', lineno=3373, function='run_ast_nodes', code_context=['                if await self.run_code(code, result, async_=asy):\\n'], index=0)\n",
      "FrameInfo(frame=<frame at 0x0000019133520030, file 'C:\\\\Users\\\\joel\\\\miniconda3\\\\envs\\\\ml\\\\lib\\\\site-packages\\\\IPython\\\\core\\\\interactiveshell.py', line 3194, code run_cell_async>, filename='C:\\\\Users\\\\joel\\\\miniconda3\\\\envs\\\\ml\\\\lib\\\\site-packages\\\\IPython\\\\core\\\\interactiveshell.py', lineno=3194, function='run_cell_async', code_context=['                has_raised = await self.run_ast_nodes(code_ast.body, cell_name,\\n'], index=0)\n",
      "FrameInfo(frame=<frame at 0x00000191346D8F40, file 'C:\\\\Users\\\\joel\\\\miniconda3\\\\envs\\\\ml\\\\lib\\\\site-packages\\\\IPython\\\\core\\\\async_helpers.py', line 129, code _pseudo_sync_runner>, filename='C:\\\\Users\\\\joel\\\\miniconda3\\\\envs\\\\ml\\\\lib\\\\site-packages\\\\IPython\\\\core\\\\async_helpers.py', lineno=129, function='_pseudo_sync_runner', code_context=['        coro.send(None)\\n'], index=0)\n",
      "FrameInfo(frame=<frame at 0x0000019133641C10, file 'C:\\\\Users\\\\joel\\\\miniconda3\\\\envs\\\\ml\\\\lib\\\\site-packages\\\\IPython\\\\core\\\\interactiveshell.py', line 2995, code _run_cell>, filename='C:\\\\Users\\\\joel\\\\miniconda3\\\\envs\\\\ml\\\\lib\\\\site-packages\\\\IPython\\\\core\\\\interactiveshell.py', lineno=2995, function='_run_cell', code_context=['            return runner(coro)\\n'], index=0)\n",
      "FrameInfo(frame=<frame at 0x000001913463FA40, file 'C:\\\\Users\\\\joel\\\\miniconda3\\\\envs\\\\ml\\\\lib\\\\site-packages\\\\IPython\\\\core\\\\interactiveshell.py', line 2940, code run_cell>, filename='C:\\\\Users\\\\joel\\\\miniconda3\\\\envs\\\\ml\\\\lib\\\\site-packages\\\\IPython\\\\core\\\\interactiveshell.py', lineno=2940, function='run_cell', code_context=['            result = self._run_cell(\\n'], index=0)\n",
      "FrameInfo(frame=<frame at 0x00000191346E3300, file 'C:\\\\Users\\\\joel\\\\miniconda3\\\\envs\\\\ml\\\\lib\\\\site-packages\\\\ipykernel\\\\zmqshell.py', line 528, code run_cell>, filename='C:\\\\Users\\\\joel\\\\miniconda3\\\\envs\\\\ml\\\\lib\\\\site-packages\\\\ipykernel\\\\zmqshell.py', lineno=528, function='run_cell', code_context=['        return super().run_cell(*args, **kwargs)\\n'], index=0)\n",
      "FrameInfo(frame=<frame at 0x0000019133521790, file 'C:\\\\Users\\\\joel\\\\miniconda3\\\\envs\\\\ml\\\\lib\\\\site-packages\\\\ipykernel\\\\ipkernel.py', line 383, code do_execute>, filename='C:\\\\Users\\\\joel\\\\miniconda3\\\\envs\\\\ml\\\\lib\\\\site-packages\\\\ipykernel\\\\ipkernel.py', lineno=383, function='do_execute', code_context=['                    res = shell.run_cell(\\n'], index=0)\n",
      "FrameInfo(frame=<frame at 0x00000191336419D0, file 'C:\\\\Users\\\\joel\\\\miniconda3\\\\envs\\\\ml\\\\lib\\\\site-packages\\\\ipykernel\\\\kernelbase.py', line 730, code execute_request>, filename='C:\\\\Users\\\\joel\\\\miniconda3\\\\envs\\\\ml\\\\lib\\\\site-packages\\\\ipykernel\\\\kernelbase.py', lineno=730, function='execute_request', code_context=['            reply_content = await reply_content\\n'], index=0)\n",
      "FrameInfo(frame=<frame at 0x000001913398BB50, file 'C:\\\\Users\\\\joel\\\\miniconda3\\\\envs\\\\ml\\\\lib\\\\site-packages\\\\ipykernel\\\\kernelbase.py', line 406, code dispatch_shell>, filename='C:\\\\Users\\\\joel\\\\miniconda3\\\\envs\\\\ml\\\\lib\\\\site-packages\\\\ipykernel\\\\kernelbase.py', lineno=406, function='dispatch_shell', code_context=['                    await result\\n'], index=0)\n",
      "FrameInfo(frame=<frame at 0x0000019134673680, file 'C:\\\\Users\\\\joel\\\\miniconda3\\\\envs\\\\ml\\\\lib\\\\site-packages\\\\ipykernel\\\\kernelbase.py', line 499, code process_one>, filename='C:\\\\Users\\\\joel\\\\miniconda3\\\\envs\\\\ml\\\\lib\\\\site-packages\\\\ipykernel\\\\kernelbase.py', lineno=499, function='process_one', code_context=['        await dispatch(*args)\\n'], index=0)\n",
      "FrameInfo(frame=<frame at 0x00000191346E0580, file 'C:\\\\Users\\\\joel\\\\miniconda3\\\\envs\\\\ml\\\\lib\\\\site-packages\\\\ipykernel\\\\kernelbase.py', line 510, code dispatch_queue>, filename='C:\\\\Users\\\\joel\\\\miniconda3\\\\envs\\\\ml\\\\lib\\\\site-packages\\\\ipykernel\\\\kernelbase.py', lineno=510, function='dispatch_queue', code_context=['                await self.process_one()\\n'], index=0)\n",
      "FrameInfo(frame=<frame at 0x000001913463F040, file 'C:\\\\Users\\\\joel\\\\miniconda3\\\\envs\\\\ml\\\\lib\\\\asyncio\\\\events.py', line 80, code _run>, filename='C:\\\\Users\\\\joel\\\\miniconda3\\\\envs\\\\ml\\\\lib\\\\asyncio\\\\events.py', lineno=80, function='_run', code_context=['            self._context.run(self._callback, *self._args)\\n'], index=0)\n",
      "FrameInfo(frame=<frame at 0x00000191323197F0, file 'C:\\\\Users\\\\joel\\\\miniconda3\\\\envs\\\\ml\\\\lib\\\\asyncio\\\\base_events.py', line 1899, code _run_once>, filename='C:\\\\Users\\\\joel\\\\miniconda3\\\\envs\\\\ml\\\\lib\\\\asyncio\\\\base_events.py', lineno=1899, function='_run_once', code_context=['                handle._run()\\n'], index=0)\n",
      "FrameInfo(frame=<frame at 0x00000191346DDB70, file 'C:\\\\Users\\\\joel\\\\miniconda3\\\\envs\\\\ml\\\\lib\\\\asyncio\\\\base_events.py', line 603, code run_forever>, filename='C:\\\\Users\\\\joel\\\\miniconda3\\\\envs\\\\ml\\\\lib\\\\asyncio\\\\base_events.py', lineno=603, function='run_forever', code_context=['                self._run_once()\\n'], index=0)\n",
      "FrameInfo(frame=<frame at 0x00000191346DD9A0, file 'C:\\\\Users\\\\joel\\\\miniconda3\\\\envs\\\\ml\\\\lib\\\\site-packages\\\\tornado\\\\platform\\\\asyncio.py', line 215, code start>, filename='C:\\\\Users\\\\joel\\\\miniconda3\\\\envs\\\\ml\\\\lib\\\\site-packages\\\\tornado\\\\platform\\\\asyncio.py', lineno=215, function='start', code_context=['            self.asyncio_loop.run_forever()\\n'], index=0)\n",
      "FrameInfo(frame=<frame at 0x0000019133F74610, file 'C:\\\\Users\\\\joel\\\\miniconda3\\\\envs\\\\ml\\\\lib\\\\site-packages\\\\ipykernel\\\\kernelapp.py', line 712, code start>, filename='C:\\\\Users\\\\joel\\\\miniconda3\\\\envs\\\\ml\\\\lib\\\\site-packages\\\\ipykernel\\\\kernelapp.py', lineno=712, function='start', code_context=['                self.io_loop.start()\\n'], index=0)\n",
      "FrameInfo(frame=<frame at 0x00000191302E5B80, file 'C:\\\\Users\\\\joel\\\\miniconda3\\\\envs\\\\ml\\\\lib\\\\site-packages\\\\traitlets\\\\config\\\\application.py', line 982, code launch_instance>, filename='C:\\\\Users\\\\joel\\\\miniconda3\\\\envs\\\\ml\\\\lib\\\\site-packages\\\\traitlets\\\\config\\\\application.py', lineno=982, function='launch_instance', code_context=['        app.start()\\n'], index=0)\n",
      "FrameInfo(frame=<frame at 0x000001912FB14700, file 'C:\\\\Users\\\\joel\\\\miniconda3\\\\envs\\\\ml\\\\lib\\\\site-packages\\\\ipykernel_launcher.py', line 17, code <module>>, filename='C:\\\\Users\\\\joel\\\\miniconda3\\\\envs\\\\ml\\\\lib\\\\site-packages\\\\ipykernel_launcher.py', lineno=17, function='<module>', code_context=['    app.launch_new_instance()\\n'], index=0)\n",
      "FrameInfo(frame=<frame at 0x000001912F652A30, file 'C:\\\\Users\\\\joel\\\\miniconda3\\\\envs\\\\ml\\\\lib\\\\runpy.py', line 86, code _run_code>, filename='C:\\\\Users\\\\joel\\\\miniconda3\\\\envs\\\\ml\\\\lib\\\\runpy.py', lineno=86, function='_run_code', code_context=['    exec(code, run_globals)\\n'], index=0)\n",
      "FrameInfo(frame=<frame at 0x000001912FAFBC40, file 'C:\\\\Users\\\\joel\\\\miniconda3\\\\envs\\\\ml\\\\lib\\\\runpy.py', line 196, code _run_module_as_main>, filename='C:\\\\Users\\\\joel\\\\miniconda3\\\\envs\\\\ml\\\\lib\\\\runpy.py', lineno=196, function='_run_module_as_main', code_context=['    return _run_code(code, main_globals, None,\\n'], index=0)\n"
     ]
    }
   ],
   "source": [
    "def Fibonacci(n):\n",
    "    if n<0:\n",
    "        return 0\n",
    "    elif n==0:\n",
    "        return 0\n",
    "    elif n==1:\n",
    "        return 1\n",
    "    else:\n",
    "        return Fibonacci(n-1)+Fibonacci(n-2)\n",
    "(Fibonacci(3))\n",
    "for i in inspect.stack():\n",
    "    print(i)"
   ]
  },
  {
   "cell_type": "code",
   "execution_count": null,
   "id": "95f746de",
   "metadata": {},
   "outputs": [],
   "source": []
  }
 ],
 "metadata": {
  "kernelspec": {
   "display_name": "ml",
   "language": "python",
   "name": "python3"
  },
  "language_info": {
   "codemirror_mode": {
    "name": "ipython",
    "version": 3
   },
   "file_extension": ".py",
   "mimetype": "text/x-python",
   "name": "python",
   "nbconvert_exporter": "python",
   "pygments_lexer": "ipython3",
   "version": "3.10.8 | packaged by conda-forge | (main, Nov 24 2022, 14:07:00) [MSC v.1916 64 bit (AMD64)]"
  },
  "vscode": {
   "interpreter": {
    "hash": "326181a7a0848edcd38b5e5d8d41ef60109f6026e13bd41811ff8619a07d710f"
   }
  }
 },
 "nbformat": 4,
 "nbformat_minor": 5
}
